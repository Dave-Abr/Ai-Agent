{
 "cells": [
  {
   "cell_type": "markdown",
   "id": "7f731f64",
   "metadata": {},
   "source": [
    "# 🤖🚀 Building a Telegram Bot with OpenAI: Step by Step\n",
    "\n",
    "Welcome! This notebook will guide you through the process of creating a Telegram bot powered by OpenAI, using the `python-telegram-bot` library. Each step includes code and visible output so you can follow along and understand how everything works.\n",
    "\n",
    "Let's get started!"
   ]
  },
  {
   "cell_type": "markdown",
   "id": "c486fa3f",
   "metadata": {},
   "source": [
    "## 1. 🔧 Install Required Packages\n",
    "\n",
    "First, let's install the required Python packages for our Telegram bot:\n",
    "- `python-telegram-bot` for Telegram API integration\n",
    "- `openai` for OpenAI API access\n",
    "- `python-dotenv` for loading environment variables\n",
    "\n",
    "We'll also print the installed versions to confirm."
   ]
  },
  {
   "cell_type": "code",
   "execution_count": null,
   "id": "20dd12ff",
   "metadata": {},
   "outputs": [],
   "source": [
    "# Install required packages (uncomment if running in Colab or a new environment)\n",
    "!pip install python-telegram-bot openai python-dotenv"
   ]
  },
  {
   "cell_type": "code",
   "execution_count": 2,
   "id": "bf8cfb2d",
   "metadata": {},
   "outputs": [
    {
     "name": "stdout",
     "output_type": "stream",
     "text": [
      "python-telegram-bot version: 22.5\n",
      "openai version: 1.106.0\n"
     ]
    }
   ],
   "source": [
    "import telegram\n",
    "import openai\n",
    "import dotenv\n",
    "\n",
    "print(f\"python-telegram-bot version: {telegram.__version__}\")\n",
    "print(f\"openai version: {openai.__version__}\")"
   ]
  },
  {
   "cell_type": "markdown",
   "id": "0dafa7dd",
   "metadata": {},
   "source": [
    "## 2. 🔑 Load Environment Variables\n",
    "\n",
    "We'll use `python-dotenv` to load our API keys from a `.env` file. This keeps sensitive information out of our code. We'll print the loaded keys (with values masked for security)."
   ]
  },
  {
   "cell_type": "code",
   "execution_count": 3,
   "id": "18b0b75d",
   "metadata": {},
   "outputs": [
    {
     "name": "stdout",
     "output_type": "stream",
     "text": [
      "Loaded TELEGRAM_BOT_TOKEN: 8429...iJrE\n",
      "Loaded OPENAI_API_KEY: sk-p...NrsA\n"
     ]
    }
   ],
   "source": [
    "import os\n",
    "from dotenv import load_dotenv, find_dotenv\n",
    "\n",
    "# Load environment variables from .env file\n",
    "load_dotenv(find_dotenv())\n",
    "\n",
    "TELEGRAM_BOT_TOKEN = os.getenv(\"BOT_TOKEN\")\n",
    "OPENAI_API_KEY = os.getenv(\"API_KEY\")\n",
    "\n",
    "def mask_key(key):\n",
    "    if key and len(key) > 8:\n",
    "        return key[:4] + \"...\" + key[-4:]\n",
    "    return key\n",
    "\n",
    "print(f\"Loaded TELEGRAM_BOT_TOKEN: {mask_key(TELEGRAM_BOT_TOKEN)}\")\n",
    "print(f\"Loaded OPENAI_API_KEY: {mask_key(OPENAI_API_KEY)}\")"
   ]
  },
  {
   "cell_type": "markdown",
   "id": "fd3ca92f",
   "metadata": {},
   "source": [
    "## 3. 🤖 Set Up OpenAI and Telegram Tokens\n",
    "\n",
    "Now, let's initialize the OpenAI client and confirm our Telegram bot token is ready. We'll print confirmation messages for both."
   ]
  },
  {
   "cell_type": "code",
   "execution_count": 4,
   "id": "e6f578f1",
   "metadata": {},
   "outputs": [
    {
     "name": "stdout",
     "output_type": "stream",
     "text": [
      "✅ OpenAI client initialized successfully!\n",
      "✅ Telegram bot token loaded!\n"
     ]
    }
   ],
   "source": [
    "from openai import OpenAI\n",
    "\n",
    "try:\n",
    "    openai_client = OpenAI(api_key=OPENAI_API_KEY)\n",
    "    print(\"✅ OpenAI client initialized successfully!\")\n",
    "except Exception as e:\n",
    "    print(f\"❌ Failed to initialize OpenAI client: {e}\")\n",
    "\n",
    "if TELEGRAM_BOT_TOKEN:\n",
    "    print(\"✅ Telegram bot token loaded!\")\n",
    "else:\n",
    "    print(\"❌ Telegram bot token not found!\")"
   ]
  },
  {
   "cell_type": "markdown",
   "id": "9ff858a8",
   "metadata": {},
   "source": [
    "## 4. 🧠 Define Chat Memory Management\n",
    "\n",
    "We'll implement a simple chat memory to store and trim conversation history for each chat. Let's demonstrate how it works with example data."
   ]
  },
  {
   "cell_type": "code",
   "execution_count": null,
   "id": "28f86bf3",
   "metadata": {},
   "outputs": [],
   "source": [
    "SYSTEM_PROMPT = \"You are a helpful assistant that answers in English.\"\n",
    "MAX_TURNS = 4  # For demonstration, keep it small\n",
    "CHAT_MEMORY = {}\n",
    "\n",
    "def get_history(chat_id: int):\n",
    "    if chat_id not in CHAT_MEMORY:\n",
    "        CHAT_MEMORY[chat_id] = [{\"role\": \"system\", \"content\": SYSTEM_PROMPT}]\n",
    "    return CHAT_MEMORY[chat_id]\n",
    "\n",
    "def trim_history(chat_id: int):\n",
    "    hist = get_history(chat_id)\n",
    "    # Keep system + last turns\n",
    "    if len(hist) > 2 * MAX_TURNS + 1:\n",
    "        CHAT_MEMORY[chat_id] = [hist[0]] + hist[-2*MAX_TURNS:]\n",
    "\n",
    "# Example usage:\n",
    "chat_id = 12345\n",
    "for i in range(10):\n",
    "    get_history(chat_id).append({\"role\": \"user\", \"content\": f\"Message {i+1}\"})\n",
    "    trim_history(chat_id)\n",
    "    print(f\"After turn {i+1}: {len(get_history(chat_id))} messages in memory\")\n",
    "\n",
    "print(\"\\nCurrent chat memory:\")\n",
    "for msg in get_history(chat_id):\n",
    "    print(msg)"
   ]
  },
  {
   "cell_type": "markdown",
   "id": "d1673d4b",
   "metadata": {},
   "source": [
    "## 5. 📝 Implement Telegram Bot Handlers\n",
    "\n",
    "Let's define the main handler functions: `start`, `reset`, and `handle_message`. We'll simulate their behavior with example inputs and print the outputs, since we can't run a real Telegram bot in this notebook."
   ]
  },
  {
   "cell_type": "code",
   "execution_count": null,
   "id": "0fe1ab63",
   "metadata": {},
   "outputs": [],
   "source": [
    "def start(chat_id):\n",
    "    CHAT_MEMORY[chat_id] = [{\"role\": \"system\", \"content\": SYSTEM_PROMPT}]\n",
    "    return \"Hello! I'm your OpenAI bot. Send me a message and I'll reply 😊\"\n",
    "\n",
    "def reset(chat_id):\n",
    "    CHAT_MEMORY[chat_id] = [{\"role\": \"system\", \"content\": SYSTEM_PROMPT}]\n",
    "    return \"Context reset ✅\"\n",
    "\n",
    "def handle_message(chat_id, user_text):\n",
    "    hist = get_history(chat_id)\n",
    "    hist.append({\"role\": \"user\", \"content\": user_text})\n",
    "    trim_history(chat_id)\n",
    "    # Simulate OpenAI response\n",
    "    answer = f\"Echo: {user_text} (simulated AI response)\"\n",
    "    hist.append({\"role\": \"assistant\", \"content\": answer})\n",
    "    trim_history(chat_id)\n",
    "    return answer\n",
    "\n",
    "# Simulate usage\n",
    "chat_id = 67890\n",
    "print(start(chat_id))\n",
    "print(handle_message(chat_id, \"How are you?\"))\n",
    "print(handle_message(chat_id, \"Tell me a joke.\"))\n",
    "print(reset(chat_id))\n",
    "print(handle_message(chat_id, \"What is the weather?\"))"
   ]
  },
  {
   "cell_type": "markdown",
   "id": "64a56db0",
   "metadata": {},
   "source": [
    "## 6. 🚀 Run the Telegram Bot (Simulation)\n",
    "\n",
    "Finally, let's show how the bot would be started. In a real script, you would use `ApplicationBuilder` and run polling. Here, we'll just print what would happen, since we can't run a live bot in this notebook."
   ]
  },
  {
   "cell_type": "code",
   "execution_count": null,
   "id": "9f1efa6d",
   "metadata": {},
   "outputs": [],
   "source": [
    "print(\"\\n--- Simulation of bot startup ---\")\n",
    "print(\"If this were a real script, the following would happen:\")\n",
    "print(\"1. The bot would connect to Telegram using your bot token.\")\n",
    "print(\"2. Handlers for /start, /reset, and text messages would be registered.\")\n",
    "print(\"3. The bot would start polling for new messages and respond using OpenAI.\")\n",
    "print(\"\\nTo run the bot for real, use the script version outside the notebook!\")"
   ]
  }
 ],
 "metadata": {
  "kernelspec": {
   "display_name": "Python 3",
   "language": "python",
   "name": "python3"
  },
  "language_info": {
   "codemirror_mode": {
    "name": "ipython",
    "version": 3
   },
   "file_extension": ".py",
   "mimetype": "text/x-python",
   "name": "python",
   "nbconvert_exporter": "python",
   "pygments_lexer": "ipython3",
   "version": "3.12.3"
  }
 },
 "nbformat": 4,
 "nbformat_minor": 5
}
