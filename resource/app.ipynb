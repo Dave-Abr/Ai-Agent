{
 "cells": [
  {
   "cell_type": "code",
   "execution_count": 8,
   "id": "e960532d",
   "metadata": {},
   "outputs": [
    {
     "name": "stdout",
     "output_type": "stream",
     "text": [
      "API Key cargada: Sí\n",
      "Cliente OpenAI inicializado ✅\n"
     ]
    }
   ],
   "source": [
    "import os\n",
    "from PyPDF2 import PdfReader\n",
    "from dotenv import find_dotenv, load_dotenv\n",
    "from openai import OpenAI\n",
    "\n",
    "# -----------------------------\n",
    "# Cargar API Key\n",
    "# -----------------------------\n",
    "path = find_dotenv()\n",
    "load_dotenv(path)\n",
    "API_KEY = os.getenv(\"API_KEY\")\n",
    "\n",
    "print(\"API Key cargada:\", \"Sí\" if API_KEY else \"No encontrada\")\n",
    "\n",
    "# Crear cliente OpenAI\n",
    "client = OpenAI(api_key=API_KEY)\n",
    "print(\"Cliente OpenAI inicializado ✅\")\n"
   ]
  },
  {
   "cell_type": "markdown",
   "id": "41493542",
   "metadata": {},
   "source": [
    "## Leer PDF (simulación)"
   ]
  },
  {
   "cell_type": "code",
   "execution_count": 14,
   "id": "7d535c07",
   "metadata": {},
   "outputs": [
    {
     "name": "stdout",
     "output_type": "stream",
     "text": [
      "PDF cargado ✅ (10 páginas)\n",
      "Primeros 2,000 caracteres del PDF:\n",
      " Data \n",
      "SciencePrograma\n",
      "Descripción de la Carrera\n",
      " En esta carrera desarrollarás las competencias necesarias para insertarte \n",
      "en el campo del Análisis y la Ciencia de datos. Aprenderás acerca del proceso de \n",
      "examinar, limpiar, transformar y modelar datos con el objetivo de descubrir \n",
      "patrones y conocimiento útil para las organizaciones o emprendimientos en los \n",
      "que te insertes. Además, conocerás el campo de la Ciencia de datos, el cual \n",
      "combina elementos de las matemáticas, estadísticas y tecnología, para extraer \n",
      "información útil de los datos con los cuales trabaja. \n",
      " Ambas disciplinas son indispensables para la toma de decisiones \n",
      "informadas en una variedad de industrias, como las finanzas, la medicina, la \n",
      "ciencia y la tecnología, entre muchas otras.\n",
      "Tecnologías que emplearás:\n",
      "PostgreSQL DBeaver Tableau    \n",
      " Public\n",
      "Google      \n",
      "SheetsPython Jupyter   \n",
      "Notebook\n",
      "Pandas Anaconda Numpy   \n",
      "PandasPyplot\n",
      " Seaborn\n",
      "Statsmodels Scikit-learn\n",
      "www.desafiolatam.com\n",
      "www.desafiolatam.comDATA SCIENCE Contenidos\n",
      "MÓDULO 6\n",
      "Modelos avanzados \n",
      "y Redes neuronales\n",
      "En este módulo aprenderás a diseñar e \n",
      "implementar modelos de redes neuronales, \n",
      "entendiendo el funcionamiento, los \n",
      "parámetros e hiperparámetros de esta, así \n",
      "como también a implementar ensambles de \n",
      "modelos en problemas complejos, ajustando \n",
      "diferentes factores para optimizar la \n",
      "predicción, entendiendo problemáticas \n",
      "complejas y conocer las herramientas con las \n",
      "que estas se pueden abordar. \n",
      "Redes neuronales\n",
      "Tensores\n",
      "Modelos de ensamble\n",
      "Boosting\n",
      "Subajuste y sobreajuste\n",
      "Procesamiento de imágenes\n",
      "Modelos preentrenados\n",
      "Procesamiento de texto\n",
      "Resolución de problemas: limpieza \n",
      "y transformación\n",
      "Procesamiento de lenguaje naturalMÓDULO 5\n",
      "Machine Learning\n",
      "En este módulo aprenderás a implementar \n",
      "modelos idóneos de aprendizaje automático \n",
      "por medio de técnicas estadísticas, \n",
      "adecuándolos debidamente a la situación \n",
      "específica abordada y los requerimientos \n",
      "asociados a ella.\n",
      "Problemáticas de datos.\n",
      "Aprendizaje automático\n",
      "Aprendizaje su\n"
     ]
    }
   ],
   "source": [
    "pdf_path = \"data-science.pdf\" \n",
    "pdf_text = None\n",
    "\n",
    "if os.path.exists(pdf_path):\n",
    "    reader = PdfReader(pdf_path)\n",
    "    text_parts = [page.extract_text() for page in reader.pages if page.extract_text()]\n",
    "    pdf_text = \"\\n\".join(text_parts)\n",
    "    print(f\"PDF cargado ✅ ({len(reader.pages)} páginas)\")\n",
    "    print(\"Primeros 2,000 caracteres del PDF:\\n\", pdf_text[:2000])\n",
    "else:\n",
    "    print(\"⚠️ No se encontró el archivo PDF, continua sin PDF\")\n"
   ]
  },
  {
   "cell_type": "markdown",
   "id": "ca356ac3",
   "metadata": {},
   "source": [
    "## Historial de mensajes"
   ]
  },
  {
   "cell_type": "code",
   "execution_count": 24,
   "id": "22563234",
   "metadata": {},
   "outputs": [
    {
     "name": "stdout",
     "output_type": "stream",
     "text": [
      "Historial inicial:\n",
      "{'role': 'system', 'content': 'Eres un asistente en español. Usa el contenido del PDF si está disponible para responder.'}\n",
      "{'messages': [{'role': 'system', 'content': 'Eres un asistente en español. Usa el contenido del PDF si está disponible para responder.'}]}\n"
     ]
    }
   ],
   "source": [
    "session_state = {}\n",
    "\n",
    "if \"messages\" not in session_state:\n",
    "    session_state[\"messages\"] = [\n",
    "        {\"role\": \"system\", \"content\": \"Eres un asistente en español. Usa el contenido del PDF si está disponible para responder.\"}\n",
    "    ]\n",
    "\n",
    "print(\"Historial inicial:\")\n",
    "for msg in session_state[\"messages\"]:\n",
    "    print(msg)\n",
    "\n",
    "print(session_state)"
   ]
  },
  {
   "cell_type": "markdown",
   "id": "c7a7454a",
   "metadata": {},
   "source": [
    "## Simular entrada de Usuario"
   ]
  },
  {
   "cell_type": "code",
   "execution_count": 25,
   "id": "9873b1d3",
   "metadata": {},
   "outputs": [
    {
     "name": "stdout",
     "output_type": "stream",
     "text": [
      "Historial después de entrada del usuario:\n",
      "{'role': 'system', 'content': 'Eres un asistente en español. Usa el contenido del PDF si está disponible para responder.'}\n",
      "{'role': 'user', 'content': 'Hazme una lista de todos los programas que se utilizarán'}\n"
     ]
    }
   ],
   "source": [
    "user_prompt = \"Hazme una lista de todos los programas que se utilizarán\"\n",
    "session_state[\"messages\"].append({\"role\": \"user\", \"content\": user_prompt})\n",
    "\n",
    "print(\"Historial después de entrada del usuario:\")\n",
    "for msg in session_state[\"messages\"]:\n",
    "    print(msg)"
   ]
  },
  {
   "cell_type": "markdown",
   "id": "2e3c01ad",
   "metadata": {},
   "source": [
    "### Message for the model"
   ]
  },
  {
   "cell_type": "code",
   "execution_count": 27,
   "id": "985cc16d",
   "metadata": {},
   "outputs": [
    {
     "name": "stdout",
     "output_type": "stream",
     "text": [
      "Mensajes que se enviarán al modelo:\n",
      "system : Eres un asistente en español. Usa el contenido del PDF si está disponible para responder. ...\n",
      "system : Contenido del PDF:\n",
      "\n",
      "Data \n",
      "SciencePrograma\n",
      "Descripción de la Carrera\n",
      " En esta carrera desarrollarás las competencias nece ...\n",
      "user : Hazme una lista de todos los programas que se utilizarán ...\n"
     ]
    }
   ],
   "source": [
    "messages_for_llm = session_state[\"messages\"].copy()\n",
    "\n",
    "if pdf_text:\n",
    "    messages_for_llm.insert(\n",
    "        1,\n",
    "        {\"role\": \"system\", \"content\": f\"Contenido del PDF:\\n\\n{pdf_text[:1500]} ...\"}\n",
    "    )\n",
    "\n",
    "print(\"Mensajes que se enviarán al modelo:\")\n",
    "for msg in messages_for_llm:\n",
    "    print(msg[\"role\"], \":\", msg[\"content\"][:120], \"...\")\n"
   ]
  },
  {
   "cell_type": "markdown",
   "id": "c36a7f9b",
   "metadata": {},
   "source": [
    "## Llamada Open Ai"
   ]
  },
  {
   "cell_type": "code",
   "execution_count": 28,
   "id": "a45c4135",
   "metadata": {},
   "outputs": [
    {
     "name": "stdout",
     "output_type": "stream",
     "text": [
      "Respuesta del asistente:\n",
      " Aquí tienes la lista de programas y tecnologías que se utilizarán en el programa de Data Science:\n",
      "\n",
      "1. PostgreSQL\n",
      "2. DBeaver\n",
      "3. Tableau\n",
      "4. Google Sheets\n",
      "5. Python\n",
      "6. Jupyter Notebook\n",
      "7. Pandas\n",
      "8. Anaconda\n",
      "9. Numpy\n",
      "10. Pyplot\n",
      "11. Seaborn\n",
      "12. Statsmodels\n",
      "13. Scikit-learn\n"
     ]
    }
   ],
   "source": [
    "try:\n",
    "    resp = client.chat.completions.create(\n",
    "        model=\"gpt-4o-mini\",\n",
    "        messages=messages_for_llm,\n",
    "        temperature=0.2\n",
    "    )\n",
    "    answer = resp.choices[0].message.content\n",
    "except Exception as e:\n",
    "    answer = f\"⚠️ Error al llamar OpenAI: {e}\"\n",
    "\n",
    "# Guardar respuesta en historial\n",
    "session_state[\"messages\"].append({\"role\": \"assistant\", \"content\": answer})\n",
    "\n",
    "print(\"Respuesta del asistente:\\n\", answer)"
   ]
  },
  {
   "cell_type": "code",
   "execution_count": 29,
   "id": "15d87fc7",
   "metadata": {},
   "outputs": [
    {
     "name": "stdout",
     "output_type": "stream",
     "text": [
      "Historial final:\n",
      "{'role': 'system', 'content': 'Eres un asistente en español. Usa el contenido del PDF si está disponible para responder.'}\n",
      "{'role': 'user', 'content': 'Hazme una lista de todos los programas que se utilizarán'}\n",
      "{'role': 'assistant', 'content': 'Aquí tienes la lista de programas y tecnologías que se utilizarán en el programa de Data Science:\\n\\n1. PostgreSQL\\n2. DBeaver\\n3. Tableau\\n4. Google Sheets\\n5. Python\\n6. Jupyter Notebook\\n7. Pandas\\n8. Anaconda\\n9. Numpy\\n10. Pyplot\\n11. Seaborn\\n12. Statsmodels\\n13. Scikit-learn'}\n"
     ]
    }
   ],
   "source": [
    "print(\"Historial final:\")\n",
    "for msg in session_state[\"messages\"]:\n",
    "    print(msg)"
   ]
  }
 ],
 "metadata": {
  "kernelspec": {
   "display_name": "Python 3",
   "language": "python",
   "name": "python3"
  },
  "language_info": {
   "codemirror_mode": {
    "name": "ipython",
    "version": 3
   },
   "file_extension": ".py",
   "mimetype": "text/x-python",
   "name": "python",
   "nbconvert_exporter": "python",
   "pygments_lexer": "ipython3",
   "version": "3.12.3"
  }
 },
 "nbformat": 4,
 "nbformat_minor": 5
}
